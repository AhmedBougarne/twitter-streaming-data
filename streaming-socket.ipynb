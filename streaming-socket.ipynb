{
 "cells": [
  {
   "cell_type": "code",
   "execution_count": 16,
   "id": "f9683908",
   "metadata": {},
   "outputs": [
    {
     "name": "stdout",
     "output_type": "stream",
     "text": [
      "Requirement already satisfied: tweepy==3.10.0 in c:\\users\\hp\\anaconda3\\lib\\site-packages (3.10.0)\n",
      "Requirement already satisfied: requests[socks]>=2.11.1 in c:\\users\\hp\\anaconda3\\lib\\site-packages (from tweepy==3.10.0) (2.26.0)\n",
      "Requirement already satisfied: requests-oauthlib>=0.7.0 in c:\\users\\hp\\anaconda3\\lib\\site-packages (from tweepy==3.10.0) (1.3.0)\n",
      "Requirement already satisfied: six>=1.10.0 in c:\\users\\hp\\anaconda3\\lib\\site-packages (from tweepy==3.10.0) (1.16.0)\n",
      "Requirement already satisfied: oauthlib>=3.0.0 in c:\\users\\hp\\anaconda3\\lib\\site-packages (from requests-oauthlib>=0.7.0->tweepy==3.10.0) (3.1.1)\n",
      "Requirement already satisfied: idna<4,>=2.5 in c:\\users\\hp\\anaconda3\\lib\\site-packages (from requests[socks]>=2.11.1->tweepy==3.10.0) (3.2)\n",
      "Requirement already satisfied: certifi>=2017.4.17 in c:\\users\\hp\\anaconda3\\lib\\site-packages (from requests[socks]>=2.11.1->tweepy==3.10.0) (2021.10.8)\n",
      "Requirement already satisfied: urllib3<1.27,>=1.21.1 in c:\\users\\hp\\anaconda3\\lib\\site-packages (from requests[socks]>=2.11.1->tweepy==3.10.0) (1.26.7)\n",
      "Requirement already satisfied: charset-normalizer~=2.0.0 in c:\\users\\hp\\anaconda3\\lib\\site-packages (from requests[socks]>=2.11.1->tweepy==3.10.0) (2.0.4)\n",
      "Requirement already satisfied: PySocks!=1.5.7,>=1.5.6 in c:\\users\\hp\\anaconda3\\lib\\site-packages (from requests[socks]>=2.11.1->tweepy==3.10.0) (1.7.1)\n",
      "Note: you may need to restart the kernel to use updated packages.\n"
     ]
    }
   ],
   "source": [
    "pip install tweepy==3.10.0"
   ]
  },
  {
   "cell_type": "code",
   "execution_count": 8,
   "id": "85f84ac3",
   "metadata": {},
   "outputs": [],
   "source": [
    "# Import the necessary packages\n",
    "import tweepy\n",
    "from tweepy.auth import OAuthHandler\n",
    "from tweepy import Stream\n",
    "from tweepy.streaming import StreamListener\n",
    "import socket\n",
    "import json"
   ]
  },
  {
   "cell_type": "code",
   "execution_count": 9,
   "id": "1d886b3e",
   "metadata": {},
   "outputs": [],
   "source": [
    "consumer_key    = 'KqVfTgSOfbl0o5wtbSRZa5JNf'\n",
    "consumer_secret = 'GPCwOovDEhZNk3ZromvnCPESMHxz84R6mhPPCWmnqqR85Ejzf0'\n",
    "access_token    = '1482336879676698635-NS4yiqQrv9CnBAjNTg0HXTKOAXp3W0'\n",
    "access_secret   = 'xn5r9K9853mHS02bvNtiDAK3rcClUzUCh24yMMAylVsMgpMlYE'\n"
   ]
  },
  {
   "cell_type": "code",
   "execution_count": 10,
   "id": "50670e62",
   "metadata": {},
   "outputs": [],
   "source": [
    "#Create a StreamListener instance\n",
    "# On crée une classe qui hérite de la classe StreamListner \n",
    "#TweetListener represents an instance of StreamListener that connects to the Twitter API and returns a tweet at a time.\n",
    "class TweetsListener(StreamListener):\n",
    "\n",
    "    def __init__(self, csocket):\n",
    "        self.client_socket = csocket\n",
    "    # we override the on_data() function in StreamListener\n",
    "    def on_data(self, data):\n",
    "        try:\n",
    "            message = json.loads( data )\n",
    "            print( message['text'].encode('utf-8') )\n",
    "            self.client_socket.send( message['text'].encode('utf-8') )\n",
    "            return True\n",
    "        except BaseException as e:\n",
    "            print(\"Error on_data: %s\" % str(e))\n",
    "        return True\n",
    "\n",
    "    def if_error(self, status):\n",
    "        print(status)\n",
    "        return True"
   ]
  },
  {
   "cell_type": "code",
   "execution_count": 11,
   "id": "c35b76fa",
   "metadata": {},
   "outputs": [],
   "source": [
    "#Send data from Twitter\n",
    "#In order to retrieve data from Twitter API, we must first authenticate our connection using the pre-defined credentials. \n",
    "def send_tweets(c_socket):\n",
    "    auth = OAuthHandler(consumer_key, consumer_secret)\n",
    "    auth.set_access_token(access_token, access_secret)\n",
    "    \n",
    "    twitter_stream = Stream(auth, TweetsListener(c_socket))\n",
    "    twitter_stream.filter(track=['Parkinson']) #on est interssé à la maladie Parkinson"
   ]
  },
  {
   "cell_type": "code",
   "execution_count": 13,
   "id": "7331fbdd",
   "metadata": {
    "scrolled": true
   },
   "outputs": [],
   "source": [
    "#Start streaming\n",
    "#Streaming the data from the Twitter API \n",
    "#requires creating a listening TCP socket in the local machine (server) \n",
    "#on a predefined local IP address and port. \n",
    "#A socket consists of a server-side, which is our local machine, \n",
    "#and a client-side, which is Twitter API. \n",
    "#The open socket from the server-side listens \n",
    "#for connections from the client. \n",
    "#When the client-side is up and running, \n",
    "#the socket will receive the data from the Twitter API based on \n",
    "#the topic or keywords defined in the StreamListener instance."
   ]
  },
  {
   "cell_type": "code",
   "execution_count": 15,
   "id": "6cd3f5c1",
   "metadata": {},
   "outputs": [
    {
     "name": "stdout",
     "output_type": "stream",
     "text": [
      "Now listening on port: 2000\n",
      "Received request from: ('127.0.0.1', 52973)\n"
     ]
    }
   ],
   "source": [
    "if __name__ == \"__main__\":\n",
    "    new_skt = socket.socket()             # initiate a socket object\n",
    "    host = \"127.0.0.1\"                    # adresse de la machine locale\n",
    "    port = 2000                           # on spécifié le port de nootre service\n",
    "    new_skt.bind((host, port))            #on fait le binding entre notre host et port\n",
    "\n",
    "    print(\"Now listening on port: %s\" % str(port))\n",
    "\n",
    "    new_skt.listen(5)                     #  waiting for client connection.\n",
    "    c, addr = new_skt.accept()            # Establish connection with client. \n",
    "                                          # it returns first a socket object,c, and the address bound to the socket\n",
    "\n",
    "    print(\"Received request from: \" + str(addr))\n",
    "    # and after accepting the connection, we aill sent the tweets through the socket\n",
    "    send_tweets(c)"
   ]
  },
  {
   "cell_type": "code",
   "execution_count": null,
   "id": "20c27012",
   "metadata": {},
   "outputs": [],
   "source": []
  }
 ],
 "metadata": {
  "kernelspec": {
   "display_name": "Python 3 (ipykernel)",
   "language": "python",
   "name": "python3"
  },
  "language_info": {
   "codemirror_mode": {
    "name": "ipython",
    "version": 3
   },
   "file_extension": ".py",
   "mimetype": "text/x-python",
   "name": "python",
   "nbconvert_exporter": "python",
   "pygments_lexer": "ipython3",
   "version": "3.9.7"
  }
 },
 "nbformat": 4,
 "nbformat_minor": 5
}
